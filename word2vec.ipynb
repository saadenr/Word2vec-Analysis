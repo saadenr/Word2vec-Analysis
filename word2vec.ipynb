{
 "cells": [
  {
   "cell_type": "code",
   "execution_count": 18,
   "id": "6d3a270f",
   "metadata": {
    "_kg_hide-input": true,
    "_kg_hide-output": false,
    "execution": {
     "iopub.execute_input": "2022-06-10T12:40:19.739931Z",
     "iopub.status.busy": "2022-06-10T12:40:19.739230Z",
     "iopub.status.idle": "2022-06-10T12:40:20.816554Z",
     "shell.execute_reply": "2022-06-10T12:40:20.815804Z"
    },
    "papermill": {
     "duration": 1.100476,
     "end_time": "2022-06-10T12:40:20.828293",
     "exception": false,
     "start_time": "2022-06-10T12:40:19.727817",
     "status": "completed"
    },
    "tags": []
   },
   "outputs": [],
   "source": [
    "import numpy as np\n",
    "import matplotlib.pyplot as plt"
   ]
  },
  {
   "cell_type": "markdown",
   "id": "8a82d699",
   "metadata": {
    "papermill": {
     "duration": 0.022356,
     "end_time": "2022-06-10T12:40:20.872978",
     "exception": false,
     "start_time": "2022-06-10T12:40:20.850622",
     "status": "completed"
    },
    "tags": []
   },
   "source": [
    "# What will we learn?\n",
    "* How to **scrape** content form any URL using **BeautifulSoup (bs4)**\n",
    "* Implement **Word2Vec** using **gensim** library\n",
    "* What is **t-SNE** and how is it different form other algorithms\n",
    "* **Visualize** the embedings using **Plotly**\n",
    "\n",
    "###  Hold on..\n",
    "Before diving into learning the practical implementation, let us first strengthen the theoritical concepts.\n",
    "* [Theory](#theory)\n",
    "    1. [BeautifulSoup](#theory)\n",
    "    2. [Word2Vec](#w2v)\n",
    "    3. [t-SNE](#tsne)\n",
    "\n",
    "Well, incase you want to skip to practical, here you go!\n",
    "* [Practical Implementation](#prac)\n",
    "    1. [Content 1:](#prac) Scraped - clean - embed - visualize\n",
    "    2. [Content 2:](#c2) Embed - visualize - experiment"
   ]
  },
  {
   "cell_type": "markdown",
   "id": "362e3f74",
   "metadata": {
    "papermill": {
     "duration": 0.022494,
     "end_time": "2022-06-10T12:40:20.917681",
     "exception": false,
     "start_time": "2022-06-10T12:40:20.895187",
     "status": "completed"
    },
    "tags": []
   },
   "source": [
    "## 1. Word2Vec\n",
    "\n",
    "Word2vec is a two-layer neural net that processes text by “vectorizing” words. Its input is a text corpus and its output is a set of vectors: feature vectors that represent words in that corpus. While Word2vec is not a deep neural network, it turns text into a numerical form that deep neural networks can understand.\n",
    "\n",
    "Word2vec’s applications extend beyond parsing sentences in the wild. It can be applied just as well to genes, code, likes, playlists, social media graphs and other verbal or symbolic series in which patterns may be discerned.\n",
    "\n",
    "Why? Because words are simply discrete states like the other data mentioned above, and we are simply looking for the transitional probabilities between those states: the likelihood that they will co-occur. \n",
    "\n",
    "The purpose and usefulness of Word2vec is to group the vectors of similar words together in vectorspace. That is, it detects similarities mathematically. Word2vec creates vectors that are distributed numerical representations of word features, features such as the context of individual words. It does so without human intervention.\n",
    "\n",
    "Given enough data, usage and contexts, Word2vec can make highly accurate guesses about a word’s meaning based on past appearances. Those guesses can be used to establish a word’s association with other words (e.g. “man” is to “boy” what “woman” is to “girl”), or cluster documents and classify them by topic. Those clusters can form the basis of search, sentiment analysis and recommendations in such diverse fields as scientific research, legal discovery, e-commerce and customer relationship management.\n",
    "\n",
    "The output of the Word2vec neural net is a vocabulary in which each item has a vector attached to it, which can be fed into a deep-learning net or simply queried to detect relationships between words.\n",
    "\n",
    "[To know more on Word2Vec, click me :)](https://medium.com/@zafaralibagh6/a-simple-word2vec-tutorial-61e64e38a6a1)\n",
    "<a id=\"tsne\"></a>\n",
    "## 3. t-SNE\n",
    "\n",
    "I have been comparing dimensionality reduction techniques like PCA and FLDA in [my notebook](https://www.kaggle.com/code/aneridalwadi/pca-fisher-s-lda).\n",
    "One of those algorithms is called t-SNE. \n",
    "\n",
    "You might ask “Why I should even care? I know PCA already!”, and that would be a great question. t-SNE is something called nonlinear dimensionality reduction. What that means is this algorithm allows us to separate data that cannot be separated by any straight line, let me show you an example:\n",
    "\n",
    "<img src=\"https://user-images.githubusercontent.com/57945364/172662382-88820672-0d2c-477b-819a-ad7394f28b50.png\" width=\"55%\">\n",
    "\n",
    "**What is exactly t-SNE?**\n",
    "\n",
    "t-SNE a non-linear dimensionality reduction algorithm finds patterns in the data based on the similarity of data points with features, the similarity of points is calculated as the conditional probability that a point A would choose point B as its neighbour. \n",
    "It then tries to minimize the difference between these conditional probabilities (or similarities) in higher-dimensional and lower-dimensional space for a perfect representation of data points in 2 or 3 dimensional space. \n",
    "\n",
    "The nearest neighbor accuracy gives the probability that a random point has the same species as its closest neighbor. This would be close to 100% if the points were perfectly grouped according to their species. A high nearest neighbor accuracy implies that the data can be cleanly separated into groups.\n",
    "\n",
    "**Any parameters?**\n",
    "\n",
    "There are many, but here we will be understanding and implementing an arguably important parameter of t-SNE: **perplexity**\n",
    "\n",
    "Perplexity is perhaps the most important parameter in t-SNE and can reveal different aspects of the data. Considered loosely, it can be thought of as the balance between preserving the global and the local structure of the data. A more direct way to think about perplexity is that it is the continuous analogy to the KNN (K-Nearest Neighbors) for which we will preserve distances.\n",
    "\n",
    "In most implementations, perplexity defaults to 30. This focuses the attention of t-SNE on preserving the distances to its 30 nearest neighbors and puts virtually no weight on preserving distances to the remaining points. For data sets with a small number of points e.g. 100, this will uncover the global structure quite well since each point will preserve distances to a third of the data set.\n",
    "\n",
    "For larger data sets, e.g. 10,000 points, considering 30 nearest neighbors will likely do a poor job of preserving global structure. Using a higher perplexity value e.g. 500, will do a much better job for of uncovering the global structure. For larger data sets still e.g. 500k or 1 million samples, this is typically not enough and can take quite a long time to run. Luckily, various tricks can be used to improve global structure\n",
    "\n",
    "[To know more on T-SNE, click me :)](https://www.youtube.com/watch?v=NEaUSP4YerM)"
   ]
  },
  {
   "cell_type": "markdown",
   "id": "b99850c3",
   "metadata": {
    "papermill": {
     "duration": 0.022367,
     "end_time": "2022-06-10T12:40:20.962330",
     "exception": false,
     "start_time": "2022-06-10T12:40:20.939963",
     "status": "completed"
    },
    "tags": []
   },
   "source": [
    "<a id=\"prac\"></a>\n",
    "# **Practical implementation**\n",
    "## 1. Scraped - clean - embed - visualize"
   ]
  },
  {
   "cell_type": "markdown",
   "id": "e2985e6a",
   "metadata": {
    "papermill": {
     "duration": 0.021798,
     "end_time": "2022-06-10T12:40:21.006112",
     "exception": false,
     "start_time": "2022-06-10T12:40:20.984314",
     "status": "completed"
    },
    "tags": []
   },
   "source": [
    "Imports"
   ]
  },
  {
   "cell_type": "code",
   "execution_count": 19,
   "id": "c006f0e5",
   "metadata": {
    "execution": {
     "iopub.execute_input": "2022-06-10T12:40:21.052818Z",
     "iopub.status.busy": "2022-06-10T12:40:21.052390Z",
     "iopub.status.idle": "2022-06-10T12:40:23.377534Z",
     "shell.execute_reply": "2022-06-10T12:40:23.376651Z"
    },
    "papermill": {
     "duration": 2.351444,
     "end_time": "2022-06-10T12:40:23.379806",
     "exception": false,
     "start_time": "2022-06-10T12:40:21.028362",
     "status": "completed"
    },
    "tags": []
   },
   "outputs": [],
   "source": [
    "import re\n",
    "import nltk\n",
    "import bs4 as bs\n",
    "import numpy as np\n",
    "from nltk.corpus import stopwords\n",
    "from sklearn.manifold import TSNE\n",
    "from gensim.models import word2vec\n",
    "\n",
    "import matplotlib.pyplot as plt\n",
    "import matplotlib.cm as cm\n",
    "\n",
    "%matplotlib inline"
   ]
  },
  {
   "cell_type": "markdown",
   "id": "b3c1ac5a",
   "metadata": {
    "papermill": {
     "duration": 0.025137,
     "end_time": "2022-06-10T12:40:23.427799",
     "exception": false,
     "start_time": "2022-06-10T12:40:23.402662",
     "status": "completed"
    },
    "tags": []
   },
   "source": [
    "Scrape the data"
   ]
  },
  {
   "cell_type": "code",
   "execution_count": 20,
   "id": "9d396f04",
   "metadata": {
    "execution": {
     "iopub.execute_input": "2022-06-10T12:40:23.475928Z",
     "iopub.status.busy": "2022-06-10T12:40:23.475365Z",
     "iopub.status.idle": "2022-06-10T12:40:25.781338Z",
     "shell.execute_reply": "2022-06-10T12:40:25.780299Z"
    },
    "papermill": {
     "duration": 2.332515,
     "end_time": "2022-06-10T12:40:25.783761",
     "exception": false,
     "start_time": "2022-06-10T12:40:23.451246",
     "status": "completed"
    },
    "tags": []
   },
   "outputs": [
    {
     "data": {
      "text/plain": [
       "90"
      ]
     },
     "execution_count": 20,
     "metadata": {},
     "output_type": "execute_result"
    }
   ],
   "source": [
    "# Corpus\n",
    "def read_sentences_from_file(file_path):\n",
    "    corpus = []\n",
    "    with open(file_path, 'r') as file:\n",
    "        for line in file:\n",
    "            # Assuming each line contains one sentence\n",
    "            sentence = line.strip()\n",
    "            if sentence:  # Check if the line is not empty\n",
    "                corpus.append(sentence)\n",
    "    return corpus\n",
    "corpus = read_sentences_from_file(\"corpus.txt\")\n",
    "\n",
    "len(corpus)"
   ]
  },
  {
   "cell_type": "markdown",
   "id": "909e719d",
   "metadata": {
    "papermill": {
     "duration": 0.022092,
     "end_time": "2022-06-10T12:40:25.828922",
     "exception": false,
     "start_time": "2022-06-10T12:40:25.806830",
     "status": "completed"
    },
    "tags": []
   },
   "source": [
    "Text cleaning"
   ]
  },
  {
   "cell_type": "code",
   "execution_count": 21,
   "id": "2f799b71",
   "metadata": {},
   "outputs": [
    {
     "name": "stderr",
     "output_type": "stream",
     "text": [
      "[nltk_data] Downloading package punkt to\n",
      "[nltk_data]     C:\\Users\\saad\\AppData\\Roaming\\nltk_data...\n",
      "[nltk_data]   Package punkt is already up-to-date!\n"
     ]
    },
    {
     "data": {
      "text/plain": [
       "True"
      ]
     },
     "execution_count": 21,
     "metadata": {},
     "output_type": "execute_result"
    }
   ],
   "source": [
    "import nltk\n",
    "nltk.download('punkt')"
   ]
  },
  {
   "cell_type": "code",
   "execution_count": 22,
   "id": "7011e07b",
   "metadata": {
    "execution": {
     "iopub.execute_input": "2022-06-10T12:40:25.875406Z",
     "iopub.status.busy": "2022-06-10T12:40:25.874727Z",
     "iopub.status.idle": "2022-06-10T12:40:27.171508Z",
     "shell.execute_reply": "2022-06-10T12:40:27.170667Z"
    },
    "papermill": {
     "duration": 1.322332,
     "end_time": "2022-06-10T12:40:27.173517",
     "exception": false,
     "start_time": "2022-06-10T12:40:25.851185",
     "status": "completed"
    },
    "tags": []
   },
   "outputs": [],
   "source": [
    "# Convert the data to uniform case\n",
    "processed_article = ' '.join(corpus).lower()\n",
    "processed_article = re.sub('[^a-zA-Z]', ' ', processed_article )\n",
    "processed_article = re.sub(r'\\s+', ' ', processed_article)\n",
    "\n",
    "# Preparing the dataset\n",
    "all_sentences = nltk.sent_tokenize(processed_article)\n",
    "\n",
    "all_words = [nltk.word_tokenize(sent) for sent in all_sentences]\n",
    "\n",
    "# Removing Stop Words\n",
    "for i in range(len(all_words)):\n",
    "    all_words[i] = [w for w in all_words[i] if w not in stopwords.words('english')]"
   ]
  },
  {
   "cell_type": "code",
   "execution_count": 23,
   "id": "b662818a",
   "metadata": {},
   "outputs": [
    {
     "data": {
      "text/plain": [
       "[['alice',\n",
       "  'sings',\n",
       "  'sweetly',\n",
       "  'bob',\n",
       "  'laughs',\n",
       "  'loudly',\n",
       "  'alice',\n",
       "  'reads',\n",
       "  'books',\n",
       "  'bob',\n",
       "  'drinks',\n",
       "  'water',\n",
       "  'alice',\n",
       "  'draws',\n",
       "  'flowers',\n",
       "  'bob',\n",
       "  'plays',\n",
       "  'ball',\n",
       "  'alice',\n",
       "  'hugs',\n",
       "  'trees',\n",
       "  'bob',\n",
       "  'climbs',\n",
       "  'trees',\n",
       "  'alice',\n",
       "  'sees',\n",
       "  'birds',\n",
       "  'bob',\n",
       "  'hears',\n",
       "  'music',\n",
       "  'alice',\n",
       "  'smells',\n",
       "  'roses',\n",
       "  'bob',\n",
       "  'tastes',\n",
       "  'pizza',\n",
       "  'alice',\n",
       "  'touches',\n",
       "  'clouds',\n",
       "  'bob',\n",
       "  'builds',\n",
       "  'sandcastles',\n",
       "  'alice',\n",
       "  'swims',\n",
       "  'gracefully',\n",
       "  'bob',\n",
       "  'cycles',\n",
       "  'quickly',\n",
       "  'alice',\n",
       "  'paints',\n",
       "  'pictures',\n",
       "  'bob',\n",
       "  'cooks',\n",
       "  'eggs',\n",
       "  'alice',\n",
       "  'bakes',\n",
       "  'cookies',\n",
       "  'bob',\n",
       "  'watches',\n",
       "  'movies',\n",
       "  'alice',\n",
       "  'skips',\n",
       "  'rocks',\n",
       "  'bob',\n",
       "  'catches',\n",
       "  'fish',\n",
       "  'alice',\n",
       "  'explores',\n",
       "  'caves',\n",
       "  'bob',\n",
       "  'sails',\n",
       "  'boats',\n",
       "  'alice',\n",
       "  'plants',\n",
       "  'seeds',\n",
       "  'bob',\n",
       "  'splashes',\n",
       "  'water',\n",
       "  'alice',\n",
       "  'climbs',\n",
       "  'mountains',\n",
       "  'bob',\n",
       "  'explores',\n",
       "  'forests',\n",
       "  'alice',\n",
       "  'picnics',\n",
       "  'outside',\n",
       "  'bob',\n",
       "  'camps',\n",
       "  'overnight',\n",
       "  'alice',\n",
       "  'paddles',\n",
       "  'canoes',\n",
       "  'bob',\n",
       "  'hikes',\n",
       "  'trails',\n",
       "  'alice',\n",
       "  'photographs',\n",
       "  'sunsets',\n",
       "  'bob',\n",
       "  'races',\n",
       "  'cars',\n",
       "  'alice',\n",
       "  'swings',\n",
       "  'high',\n",
       "  'bob',\n",
       "  'slides',\n",
       "  'alice',\n",
       "  'plays',\n",
       "  'dolls',\n",
       "  'bob',\n",
       "  'builds',\n",
       "  'robots',\n",
       "  'alice',\n",
       "  'sings',\n",
       "  'songs',\n",
       "  'bob',\n",
       "  'dreams',\n",
       "  'big',\n",
       "  'alice',\n",
       "  'bob',\n",
       "  'eat',\n",
       "  'cake',\n",
       "  'bob',\n",
       "  'alice',\n",
       "  'run',\n",
       "  'fast',\n",
       "  'alice',\n",
       "  'jumps',\n",
       "  'bob',\n",
       "  'bob',\n",
       "  'alice',\n",
       "  'smile',\n",
       "  'wide',\n",
       "  'alice',\n",
       "  'bob',\n",
       "  'dance',\n",
       "  'together',\n",
       "  'bob',\n",
       "  'alice',\n",
       "  'sleep',\n",
       "  'deeply',\n",
       "  'alice',\n",
       "  'bob',\n",
       "  'sing',\n",
       "  'sweetly',\n",
       "  'bob',\n",
       "  'alice',\n",
       "  'laugh',\n",
       "  'loudly',\n",
       "  'alice',\n",
       "  'bob',\n",
       "  'read',\n",
       "  'stories',\n",
       "  'bob',\n",
       "  'alice',\n",
       "  'drink',\n",
       "  'water',\n",
       "  'alice',\n",
       "  'bob',\n",
       "  'draw',\n",
       "  'pictures',\n",
       "  'bob',\n",
       "  'alice',\n",
       "  'play',\n",
       "  'ball',\n",
       "  'alice',\n",
       "  'bob',\n",
       "  'hug',\n",
       "  'tightly',\n",
       "  'bob',\n",
       "  'alice',\n",
       "  'climb',\n",
       "  'trees',\n",
       "  'alice',\n",
       "  'bob',\n",
       "  'see',\n",
       "  'birds',\n",
       "  'bob',\n",
       "  'alice',\n",
       "  'hear',\n",
       "  'music',\n",
       "  'alice',\n",
       "  'bob',\n",
       "  'smell',\n",
       "  'flowers',\n",
       "  'bob',\n",
       "  'alice',\n",
       "  'taste',\n",
       "  'pizza',\n",
       "  'alice',\n",
       "  'bob',\n",
       "  'touch',\n",
       "  'clouds',\n",
       "  'bob',\n",
       "  'alice',\n",
       "  'build',\n",
       "  'castles',\n",
       "  'alice',\n",
       "  'bob',\n",
       "  'swim',\n",
       "  'gracefully',\n",
       "  'bob',\n",
       "  'alice',\n",
       "  'cycle',\n",
       "  'quickly',\n",
       "  'alice',\n",
       "  'bob',\n",
       "  'paint',\n",
       "  'scenes',\n",
       "  'bob',\n",
       "  'alice',\n",
       "  'cook',\n",
       "  'meals',\n",
       "  'alice',\n",
       "  'bob',\n",
       "  'bake',\n",
       "  'cookies',\n",
       "  'bob',\n",
       "  'alice',\n",
       "  'watch',\n",
       "  'shows',\n",
       "  'alice',\n",
       "  'bob',\n",
       "  'skip',\n",
       "  'rocks',\n",
       "  'bob',\n",
       "  'alice',\n",
       "  'catch',\n",
       "  'fish',\n",
       "  'alice',\n",
       "  'bob',\n",
       "  'explore',\n",
       "  'caves',\n",
       "  'bob',\n",
       "  'alice',\n",
       "  'sail',\n",
       "  'boats',\n",
       "  'alice',\n",
       "  'bob',\n",
       "  'plant',\n",
       "  'seeds',\n",
       "  'bob',\n",
       "  'alice',\n",
       "  'ride',\n",
       "  'bikes',\n",
       "  'alice',\n",
       "  'bob',\n",
       "  'feed',\n",
       "  'ducks',\n",
       "  'bob',\n",
       "  'alice',\n",
       "  'chase',\n",
       "  'bugs',\n",
       "  'alice',\n",
       "  'bob',\n",
       "  'catch',\n",
       "  'bugs',\n",
       "  'bob',\n",
       "  'alice',\n",
       "  'splash',\n",
       "  'water',\n",
       "  'alice',\n",
       "  'bob',\n",
       "  'climb',\n",
       "  'hills',\n",
       "  'bob',\n",
       "  'alice',\n",
       "  'explore',\n",
       "  'woods',\n",
       "  'alice',\n",
       "  'bob',\n",
       "  'picnic',\n",
       "  'outside',\n",
       "  'bob',\n",
       "  'alice',\n",
       "  'camp',\n",
       "  'overnight',\n",
       "  'alice',\n",
       "  'bob',\n",
       "  'paddle',\n",
       "  'canoes',\n",
       "  'bob',\n",
       "  'alice',\n",
       "  'hike',\n",
       "  'trails',\n",
       "  'alice',\n",
       "  'bob',\n",
       "  'photograph',\n",
       "  'sunsets',\n",
       "  'bob',\n",
       "  'alice',\n",
       "  'race',\n",
       "  'cars',\n",
       "  'alice',\n",
       "  'bob',\n",
       "  'swing',\n",
       "  'high',\n",
       "  'bob',\n",
       "  'alice',\n",
       "  'slide',\n",
       "  'alice',\n",
       "  'bob',\n",
       "  'play',\n",
       "  'toys',\n",
       "  'bob',\n",
       "  'alice',\n",
       "  'build',\n",
       "  'robots',\n",
       "  'alice',\n",
       "  'bob',\n",
       "  'sing',\n",
       "  'songs',\n",
       "  'bob',\n",
       "  'alice',\n",
       "  'dream',\n",
       "  'big']]"
      ]
     },
     "execution_count": 23,
     "metadata": {},
     "output_type": "execute_result"
    }
   ],
   "source": [
    "all_words"
   ]
  },
  {
   "cell_type": "markdown",
   "id": "ae4e7c8e",
   "metadata": {
    "papermill": {
     "duration": 0.022229,
     "end_time": "2022-06-10T12:40:27.219365",
     "exception": false,
     "start_time": "2022-06-10T12:40:27.197136",
     "status": "completed"
    },
    "tags": []
   },
   "source": [
    "Declare model for word2vec\n",
    "\n",
    "To train your own model you can visite this [site](https://radimrehurek.com/gensim/models/word2vec.html)"
   ]
  },
  {
   "cell_type": "code",
   "execution_count": 24,
   "id": "5bd805ee",
   "metadata": {
    "execution": {
     "iopub.execute_input": "2022-06-10T12:40:27.265985Z",
     "iopub.status.busy": "2022-06-10T12:40:27.264885Z",
     "iopub.status.idle": "2022-06-10T12:40:27.344690Z",
     "shell.execute_reply": "2022-06-10T12:40:27.343600Z"
    },
    "papermill": {
     "duration": 0.105546,
     "end_time": "2022-06-10T12:40:27.347109",
     "exception": false,
     "start_time": "2022-06-10T12:40:27.241563",
     "status": "completed"
    },
    "tags": []
   },
   "outputs": [],
   "source": [
    "model = word2vec.Word2Vec(all_words, min_count=3, workers=4)"
   ]
  },
  {
   "cell_type": "code",
   "execution_count": 25,
   "id": "47fb4938",
   "metadata": {
    "execution": {
     "iopub.execute_input": "2022-06-10T12:40:27.393426Z",
     "iopub.status.busy": "2022-06-10T12:40:27.393013Z",
     "iopub.status.idle": "2022-06-10T12:40:27.399837Z",
     "shell.execute_reply": "2022-06-10T12:40:27.398917Z"
    },
    "papermill": {
     "duration": 0.032476,
     "end_time": "2022-06-10T12:40:27.401708",
     "exception": false,
     "start_time": "2022-06-10T12:40:27.369232",
     "status": "completed"
    },
    "tags": []
   },
   "outputs": [
    {
     "data": {
      "text/plain": [
       "array([-9.6817380e-03,  4.3765232e-03,  5.6539555e-03,  6.4906594e-03,\n",
       "        8.1882849e-03, -6.9052158e-03,  1.4116744e-03,  7.1995449e-03,\n",
       "       -3.3277569e-03, -6.9287713e-03, -4.2312946e-05, -9.1483863e-03,\n",
       "       -5.9011630e-03,  7.8300098e-03,  3.9552096e-03,  7.6017492e-03,\n",
       "        7.9373298e-03,  8.3804531e-03, -4.9044355e-03, -8.8049559e-04,\n",
       "        2.6734883e-03, -4.9636476e-03,  9.5803430e-03, -1.0701999e-02,\n",
       "        7.5428742e-03,  3.0075188e-03, -5.0071534e-03,  5.2676913e-03,\n",
       "       -2.2830584e-03,  7.3212711e-03,  1.0802426e-02, -5.1195920e-03,\n",
       "       -7.4263627e-04, -6.6090045e-03,  4.0053562e-03,  3.1969612e-03,\n",
       "        8.0752587e-03,  6.3763713e-03,  1.0186577e-02,  1.0236534e-02,\n",
       "        8.2463603e-03, -7.2639040e-03, -1.0147794e-02, -4.3586764e-04,\n",
       "       -3.0610235e-03,  8.8273697e-03,  6.3503259e-03, -1.5021231e-03,\n",
       "        1.6096544e-03,  2.1768580e-03,  8.4286015e-03, -1.0309295e-02,\n",
       "       -8.4915460e-04,  3.3160639e-03, -1.1678891e-03,  8.8376664e-03,\n",
       "        1.0012589e-02,  7.0695817e-03, -9.1361284e-04,  8.5214283e-03,\n",
       "       -9.2546782e-03,  3.5602183e-03, -4.7508981e-03, -5.8192522e-03,\n",
       "        3.7987204e-03,  6.0434612e-03,  8.6483788e-03, -5.7174074e-03,\n",
       "        7.7689178e-03,  7.1933209e-03, -3.5825050e-03, -9.2424313e-03,\n",
       "        5.9740003e-03,  7.1465513e-03, -8.6446729e-04, -7.2233579e-03,\n",
       "       -7.3786671e-03, -2.4443637e-03,  5.2812784e-03, -4.2457208e-03,\n",
       "       -1.0392877e-02,  4.2276741e-03,  5.4268660e-03, -6.7105782e-03,\n",
       "        1.1133706e-03, -2.4442871e-03,  3.7395791e-04, -1.1016473e-02,\n",
       "        3.0011954e-03, -5.2345172e-03,  8.9919748e-04, -1.5896294e-03,\n",
       "        2.7519576e-03, -8.7963035e-03, -2.1277193e-03,  3.2212653e-03,\n",
       "        5.8725504e-03, -3.0648364e-03, -1.0209300e-02,  4.7860718e-03],\n",
       "      dtype=float32)"
      ]
     },
     "execution_count": 25,
     "metadata": {},
     "output_type": "execute_result"
    }
   ],
   "source": [
    "# we use wv to get the vector ouput for a given word\n",
    "demo_wv_vector = model.wv[\"alice\"]\n",
    "demo_wv_vector "
   ]
  },
  {
   "cell_type": "code",
   "execution_count": 26,
   "id": "d07c2e59",
   "metadata": {
    "execution": {
     "iopub.execute_input": "2022-06-10T12:40:27.449807Z",
     "iopub.status.busy": "2022-06-10T12:40:27.449111Z",
     "iopub.status.idle": "2022-06-10T12:40:27.454778Z",
     "shell.execute_reply": "2022-06-10T12:40:27.454089Z"
    },
    "papermill": {
     "duration": 0.031206,
     "end_time": "2022-06-10T12:40:27.456614",
     "exception": false,
     "start_time": "2022-06-10T12:40:27.425408",
     "status": "completed"
    },
    "tags": []
   },
   "outputs": [
    {
     "data": {
      "text/plain": [
       "(100,)"
      ]
     },
     "execution_count": 26,
     "metadata": {},
     "output_type": "execute_result"
    }
   ],
   "source": [
    "demo_wv_vector.shape"
   ]
  },
  {
   "cell_type": "markdown",
   "id": "2b3815a2",
   "metadata": {
    "papermill": {
     "duration": 0.022076,
     "end_time": "2022-06-10T12:40:27.500734",
     "exception": false,
     "start_time": "2022-06-10T12:40:27.478658",
     "status": "completed"
    },
    "tags": []
   },
   "source": [
    "Lets see how the ```t-SNE``` plots our data with varying ```min_count``` parameter in training our ```word2vec``` model"
   ]
  },
  {
   "cell_type": "code",
   "execution_count": 27,
   "id": "dafe72ff",
   "metadata": {
    "execution": {
     "iopub.execute_input": "2022-06-10T12:40:27.546916Z",
     "iopub.status.busy": "2022-06-10T12:40:27.546479Z",
     "iopub.status.idle": "2022-06-10T12:40:27.555176Z",
     "shell.execute_reply": "2022-06-10T12:40:27.554399Z"
    },
    "papermill": {
     "duration": 0.033963,
     "end_time": "2022-06-10T12:40:27.556896",
     "exception": false,
     "start_time": "2022-06-10T12:40:27.522933",
     "status": "completed"
    },
    "tags": []
   },
   "outputs": [],
   "source": [
    "import numpy as np\n",
    "from sklearn.manifold import TSNE\n",
    "import matplotlib.pyplot as plt\n",
    "\n",
    "def tsne_plot_with_distance(model, corpus):\n",
    "    labels = []\n",
    "    tokens = []\n",
    "    occurrences_count = []\n",
    "    w = 0\n",
    "    \n",
    "    # Extracting words and their vectors from our trained model \n",
    "    for word in model.wv.index_to_key:\n",
    "        tokens.append(model.wv[word])\n",
    "        labels.append(word)\n",
    "    \n",
    "    # Convert tokens to a NumPy array\n",
    "    tokens = np.array(tokens)\n",
    "    \n",
    "    # Initialize an empty list to store the coordinates of \"Alice\" and \"Bob\"\n",
    "    alice_coords = []\n",
    "    bob_coords = []\n",
    "    \n",
    "    # Count occurrences of \"Alice\" and \"Bob\" together in each row of the corpus\n",
    "    for row in corpus:\n",
    "        if 'Alice' in row and 'Bob' in row:\n",
    "            w += 1\n",
    "        occurrences_count.append(w)\n",
    "    \n",
    "    # Train t-SNE with a smaller perplexity value\n",
    "    tsne_model = TSNE(perplexity=2, n_components=2, init='pca', n_iter=2500, random_state=23)\n",
    "    new_values = tsne_model.fit_transform(tokens)\n",
    "    x = []\n",
    "    y = []\n",
    "    \n",
    "    for value in new_values:\n",
    "        x.append(value[0])\n",
    "        y.append(value[1])\n",
    "        \n",
    "    plt.figure(figsize=(10, 10)) \n",
    "    for i in range(len(x)):\n",
    "        plt.scatter(x[i],y[i])\n",
    "        plt.annotate(labels[i],\n",
    "                     xy=(x[i], y[i]),\n",
    "                     xytext=(5, 2),\n",
    "                     textcoords='offset points',\n",
    "                     ha='right',\n",
    "                     va='bottom')\n",
    "    \n",
    "    # Find the indices of \"Alice\" and \"Bob\" in the labels list\n",
    "    alice_index = labels.index(\"alice\")\n",
    "    bob_index = labels.index(\"bob\")\n",
    "    \n",
    "    # Get the coordinates of \"Alice\" and \"Bob\"\n",
    "    alice_coords = (x[alice_index], y[alice_index])\n",
    "    bob_coords = (x[bob_index], y[bob_index])\n",
    "    \n",
    "    # Draw a line between \"Alice\" and \"Bob\"\n",
    "    plt.plot([alice_coords[0], bob_coords[0]], [alice_coords[1], bob_coords[1]], color='red')\n",
    "    \n",
    "    # Annotate the distance w between \"Alice\" and \"Bob\"\n",
    "    plt.text((alice_coords[0] + bob_coords[0]) / 2, (alice_coords[1] + bob_coords[1]) / 2, f\"w={w}\", ha='center', va='center')\n",
    "    \n",
    "    plt.xlabel(\"dimension 1\")\n",
    "    plt.ylabel(\"dimension 2\")\n",
    "    plt.show()"
   ]
  },
  {
   "cell_type": "code",
   "execution_count": 28,
   "id": "6996122a",
   "metadata": {
    "execution": {
     "iopub.execute_input": "2022-06-10T12:40:27.603380Z",
     "iopub.status.busy": "2022-06-10T12:40:27.602158Z",
     "iopub.status.idle": "2022-06-10T12:40:28.566271Z",
     "shell.execute_reply": "2022-06-10T12:40:28.565471Z"
    },
    "papermill": {
     "duration": 0.989397,
     "end_time": "2022-06-10T12:40:28.568196",
     "exception": false,
     "start_time": "2022-06-10T12:40:27.578799",
     "status": "completed"
    },
    "tags": []
   },
   "outputs": [
    {
     "data": {
      "image/png": "[encoded data removed]",
      "text/plain": [
       "<Figure size 1000x1000 with 1 Axes>"
      ]
     },
     "metadata": {},
     "output_type": "display_data"
    }
   ],
   "source": [
    "# Words that occur atleast 5 times\n",
    "model = word2vec.Word2Vec(all_words, window=20, min_count=2, workers=4)\n",
    "tsne_plot_with_distance(model, corpus)"
   ]
  },
  {
   "cell_type": "code",
   "execution_count": 29,
   "id": "1dfc6cfd",
   "metadata": {
    "execution": {
     "iopub.execute_input": "2022-06-10T12:40:28.615979Z",
     "iopub.status.busy": "2022-06-10T12:40:28.614825Z",
     "iopub.status.idle": "2022-06-10T12:41:04.759868Z",
     "shell.execute_reply": "2022-06-10T12:41:04.759010Z"
    },
    "papermill": {
     "duration": 36.215618,
     "end_time": "2022-06-10T12:41:04.806461",
     "exception": false,
     "start_time": "2022-06-10T12:40:28.590843",
     "status": "completed"
    },
    "tags": []
   },
   "outputs": [],
   "source": [
    "# # Words that occur atleast 3 times\n",
    "# model = word2vec.Word2Vec(all_words, window=20, min_count=2, workers=4)\n",
    "# tsne_plot()"
   ]
  },
  {
   "cell_type": "markdown",
   "id": "7e8b41b5",
   "metadata": {
    "papermill": {
     "duration": 0.03571,
     "end_time": "2022-06-10T12:41:04.877328",
     "exception": false,
     "start_time": "2022-06-10T12:41:04.841618",
     "status": "completed"
    },
    "tags": []
   },
   "source": [
    "It gets more and more **difficult to read** as the size of dataset increases\n",
    "\n",
    "Hence, for **semantic retention** and better inferences, we will plot only the **similar words** to a chosen key.\n",
    "\n",
    "Word2Vector provides us with an inbuilt functionality to give the list of top similar words with respect to the cosine-distance"
   ]
  },
  {
   "cell_type": "code",
   "execution_count": 30,
   "id": "b3138fbf",
   "metadata": {
    "execution": {
     "iopub.execute_input": "2022-06-10T12:41:04.951397Z",
     "iopub.status.busy": "2022-06-10T12:41:04.950759Z",
     "iopub.status.idle": "2022-06-10T12:41:04.962234Z",
     "shell.execute_reply": "2022-06-10T12:41:04.961091Z"
    },
    "papermill": {
     "duration": 0.052337,
     "end_time": "2022-06-10T12:41:04.965761",
     "exception": false,
     "start_time": "2022-06-10T12:41:04.913424",
     "status": "completed"
    },
    "tags": []
   },
   "outputs": [
    {
     "data": {
      "text/html": [
       "<div>\n",
       "<style scoped>\n",
       "    .dataframe tbody tr th:only-of-type {\n",
       "        vertical-align: middle;\n",
       "    }\n",
       "\n",
       "    .dataframe tbody tr th {\n",
       "        vertical-align: top;\n",
       "    }\n",
       "\n",
       "    .dataframe thead th {\n",
       "        text-align: right;\n",
       "    }\n",
       "</style>\n",
       "<table border=\"1\" class=\"dataframe\">\n",
       "  <thead>\n",
       "    <tr style=\"text-align: right;\">\n",
       "      <th></th>\n",
       "      <th>0</th>\n",
       "      <th>1</th>\n",
       "    </tr>\n",
       "  </thead>\n",
       "  <tbody>\n",
       "    <tr>\n",
       "      <th>0</th>\n",
       "      <td>bob</td>\n",
       "      <td>0.701882</td>\n",
       "    </tr>\n",
       "    <tr>\n",
       "      <th>1</th>\n",
       "      <td>trails</td>\n",
       "      <td>0.474726</td>\n",
       "    </tr>\n",
       "    <tr>\n",
       "      <th>2</th>\n",
       "      <td>quickly</td>\n",
       "      <td>0.434307</td>\n",
       "    </tr>\n",
       "    <tr>\n",
       "      <th>3</th>\n",
       "      <td>ball</td>\n",
       "      <td>0.406286</td>\n",
       "    </tr>\n",
       "    <tr>\n",
       "      <th>4</th>\n",
       "      <td>builds</td>\n",
       "      <td>0.381963</td>\n",
       "    </tr>\n",
       "    <tr>\n",
       "      <th>5</th>\n",
       "      <td>songs</td>\n",
       "      <td>0.371611</td>\n",
       "    </tr>\n",
       "    <tr>\n",
       "      <th>6</th>\n",
       "      <td>climb</td>\n",
       "      <td>0.338818</td>\n",
       "    </tr>\n",
       "    <tr>\n",
       "      <th>7</th>\n",
       "      <td>pizza</td>\n",
       "      <td>0.337520</td>\n",
       "    </tr>\n",
       "    <tr>\n",
       "      <th>8</th>\n",
       "      <td>caves</td>\n",
       "      <td>0.336264</td>\n",
       "    </tr>\n",
       "    <tr>\n",
       "      <th>9</th>\n",
       "      <td>flowers</td>\n",
       "      <td>0.317932</td>\n",
       "    </tr>\n",
       "  </tbody>\n",
       "</table>\n",
       "</div>"
      ],
      "text/plain": [
       "         0         1\n",
       "0      bob  0.701882\n",
       "1   trails  0.474726\n",
       "2  quickly  0.434307\n",
       "3     ball  0.406286\n",
       "4   builds  0.381963\n",
       "5    songs  0.371611\n",
       "6    climb  0.338818\n",
       "7    pizza  0.337520\n",
       "8    caves  0.336264\n",
       "9  flowers  0.317932"
      ]
     },
     "execution_count": 30,
     "metadata": {},
     "output_type": "execute_result"
    }
   ],
   "source": [
    "# demo output\n",
    "import pandas as pd\n",
    "\n",
    "pd.DataFrame(model.wv.most_similar('alice'))"
   ]
  },
  {
   "cell_type": "markdown",
   "id": "455ce227",
   "metadata": {
    "papermill": {
     "duration": 0.057021,
     "end_time": "2022-06-10T12:41:05.090145",
     "exception": false,
     "start_time": "2022-06-10T12:41:05.033124",
     "status": "completed"
    },
    "tags": []
   },
   "source": [
    "We see that it significantly shows semantically close words like alice and bob.\n",
    "\n",
    "For the basics, lets select 2 words and plot the similar words using t-SNE."
   ]
  },
  {
   "cell_type": "code",
   "execution_count": 31,
   "id": "4de36a8c",
   "metadata": {
    "execution": {
     "iopub.execute_input": "2022-06-10T12:41:05.163825Z",
     "iopub.status.busy": "2022-06-10T12:41:05.163439Z",
     "iopub.status.idle": "2022-06-10T12:41:05.172863Z",
     "shell.execute_reply": "2022-06-10T12:41:05.171744Z"
    },
    "papermill": {
     "duration": 0.049732,
     "end_time": "2022-06-10T12:41:05.175930",
     "exception": false,
     "start_time": "2022-06-10T12:41:05.126198",
     "status": "completed"
    },
    "tags": []
   },
   "outputs": [],
   "source": [
    "keys = ['alice', 'bob']\n",
    "\n",
    "# this array will contain the vectors(dimension 100) and the labels\n",
    "embedding_clusters = []\n",
    "word_clusters = []\n",
    "for word in keys:\n",
    "    embeddings = []\n",
    "    words = []\n",
    "    for similar_word, _ in model.wv.most_similar(word, topn=30):\n",
    "        words.append(similar_word)\n",
    "        embeddings.append(model.wv[similar_word])\n",
    "    embedding_clusters.append(embeddings)\n",
    "    word_clusters.append(words)"
   ]
  },
  {
   "cell_type": "code",
   "execution_count": 32,
   "id": "01c0b4f2",
   "metadata": {
    "execution": {
     "iopub.execute_input": "2022-06-10T12:41:05.307057Z",
     "iopub.status.busy": "2022-06-10T12:41:05.306604Z",
     "iopub.status.idle": "2022-06-10T12:41:06.353862Z",
     "shell.execute_reply": "2022-06-10T12:41:06.353105Z"
    },
    "papermill": {
     "duration": 1.110446,
     "end_time": "2022-06-10T12:41:06.356162",
     "exception": false,
     "start_time": "2022-06-10T12:41:05.245716",
     "status": "completed"
    },
    "tags": []
   },
   "outputs": [],
   "source": [
    "embedding_clusters = np.array(embedding_clusters)\n",
    "n, m, k = embedding_clusters.shape\n",
    "tsne_model_en_2d = TSNE(perplexity=1, n_components=2, init='pca', n_iter=3500, random_state=32)\n",
    "embeddings_en_2d = np.array(tsne_model_en_2d.fit_transform(embedding_clusters.reshape(n * m, k))).reshape(n, m, 2)"
   ]
  },
  {
   "cell_type": "code",
   "execution_count": 33,
   "id": "1da44ecd",
   "metadata": {
    "execution": {
     "iopub.execute_input": "2022-06-10T12:41:06.431075Z",
     "iopub.status.busy": "2022-06-10T12:41:06.430393Z",
     "iopub.status.idle": "2022-06-10T12:41:07.656788Z",
     "shell.execute_reply": "2022-06-10T12:41:07.655647Z"
    },
    "papermill": {
     "duration": 1.266196,
     "end_time": "2022-06-10T12:41:07.658973",
     "exception": false,
     "start_time": "2022-06-10T12:41:06.392777",
     "status": "completed"
    },
    "tags": []
   },
   "outputs": [
    {
     "name": "stderr",
     "output_type": "stream",
     "text": [
      "C:\\Users\\saad\\AppData\\Local\\Temp\\ipykernel_21564\\477105911.py:7: UserWarning: *c* argument looks like a single numeric RGB or RGBA sequence, which should be avoided as value-mapping will have precedence in case its length matches with *x* & *y*.  Please use the *color* keyword-argument or provide a 2D array with a single row if you intend to specify the same RGB or RGBA value for all points.\n",
      "  plt.scatter(x, y, c=color, alpha=a, label=label)\n"
     ]
    },
    {
     "data": {
      "image/png": "[encoded data removed]",
      "text/plain": [
       "<Figure size 1000x1000 with 1 Axes>"
      ]
     },
     "metadata": {},
     "output_type": "display_data"
    }
   ],
   "source": [
    "def tsne_plot_similar_words(title, labels, embedding_clusters, word_clusters, a, filename=None):\n",
    "    plt.figure(figsize=(10, 10))\n",
    "    colors = cm.rainbow(np.linspace(0, 1, len(labels)))\n",
    "    for label, embeddings, words, color in zip(labels, embedding_clusters, word_clusters, colors):\n",
    "        x = embeddings[:, 0]\n",
    "        y = embeddings[:, 1]\n",
    "        plt.scatter(x, y, c=color, alpha=a, label=label)\n",
    "        for i, word in enumerate(words):\n",
    "            plt.annotate(word, alpha=0.5, xy=(x[i], y[i]), xytext=(5, 2),\n",
    "                         textcoords='offset points', ha='right', va='bottom', size=8)\n",
    "    plt.legend(loc=3)\n",
    "    plt.title(title)\n",
    "    plt.grid(True)\n",
    "    plt.xlabel(\"dimension 1\")\n",
    "    plt.ylabel(\"dimension 2\")\n",
    "    if filename:\n",
    "        plt.savefig(filename, format='png', dpi=150, bbox_inches='tight')\n",
    "    plt.show()\n",
    "\n",
    "\n",
    "tsne_plot_similar_words('Similar words chosen keys', keys, embeddings_en_2d, word_clusters, 0.7,\n",
    "                        'similar_words.png')"
   ]
  },
  {
   "cell_type": "markdown",
   "id": "3f989ee6",
   "metadata": {
    "papermill": {
     "duration": 0.036041,
     "end_time": "2022-06-10T12:41:07.731772",
     "exception": false,
     "start_time": "2022-06-10T12:41:07.695731",
     "status": "completed"
    },
    "tags": []
   },
   "source": [
    "You see how significantly t-SNE reduces the dimension form 100 to 2 with efficiently segregating the clusters!  "
   ]
  },
  {
   "cell_type": "markdown",
   "id": "80b2d74f",
   "metadata": {
    "papermill": {
     "duration": 10.093544,
     "end_time": "2022-06-10T12:53:21.412501",
     "exception": false,
     "start_time": "2022-06-10T12:53:11.318957",
     "status": "completed"
    },
    "tags": []
   },
   "source": [
    "**Inference:**\n",
    "\n",
    "We know that the value of perplexity denotes how many neighbors will affect a point. Consider the 1st case where we set ```P = 15``` , this focuses the attention of t-SNE on preserving the distances to its 15 nearest neighbors and puts virtually no weight on preserving distances to the remaining points. \n",
    "\n",
    "Since the subset we chose is smaller, we see the plots starts to uncover the global structure quite well since each point will preserve distances to a large portion of the data set."
   ]
  },
  {
   "cell_type": "code",
   "execution_count": 35,
   "id": "93e9a02c",
   "metadata": {},
   "outputs": [
    {
     "data": {
      "image/png": "[encoded data removed]",
      "text/plain": [
       "<Figure size 640x480 with 1 Axes>"
      ]
     },
     "metadata": {},
     "output_type": "display_data"
    }
   ],
   "source": [
    "import numpy as np\n",
    "import matplotlib.pyplot as plt\n",
    "\n",
    "# Initialize an empty list to store the distances\n",
    "distances = []\n",
    "corpus = read_sentences_from_file('corpus.txt')\n",
    "\n",
    "# Iterate through the rows of the corpus\n",
    "for i in range(10, len(corpus)):\n",
    "    # Select the corresponding rows from the corpus\n",
    "    selected_corpus = corpus[:i+1]\n",
    "\n",
    "    # Convert the data to uniform case\n",
    "    processed_article = ' '.join(selected_corpus).lower()\n",
    "    processed_article = re.sub('[^a-zA-Z]', ' ', processed_article)\n",
    "    processed_article = re.sub(r'\\s+', ' ', processed_article)\n",
    "\n",
    "    # Preparing the dataset\n",
    "    all_sentences = nltk.sent_tokenize(processed_article)\n",
    "    all_words = [nltk.word_tokenize(sent) for sent in all_sentences]\n",
    "\n",
    "    # Removing Stop Words\n",
    "    for i in range(len(all_words)):\n",
    "        all_words[i] = [w for w in all_words[i] if w not in stopwords.words('english')]\n",
    "\n",
    "    # Initialize and train the Word2Vec model with the selected corpus\n",
    "    model = word2vec.Word2Vec(all_words, window=20, min_count=2, workers=4)\n",
    "    \n",
    "    # Compute the embeddings for \"Alice\" and \"Bob\"\n",
    "    alice_vector = model.wv[\"alice\"]\n",
    "    bob_vector = model.wv[\"bob\"]\n",
    "    \n",
    "    # Calculate the Euclidean distance between \"Alice\" and \"Bob\"\n",
    "    distance = np.linalg.norm(alice_vector - bob_vector)\n",
    "        \n",
    "    # Append the distance to the list\n",
    "    distances.append(distance)\n",
    "\n",
    "# Plot the distance as a function of the number of rows\n",
    "plt.plot(range(10, len(corpus)), distances)\n",
    "plt.title('Distance between \"Alice\" and \"Bob\" vs. Number of Rows')\n",
    "plt.xlabel('Number of Rows in Corpus')\n",
    "plt.ylabel('Distance')\n",
    "plt.grid(True)\n",
    "plt.show()"
   ]
  }
 ],
 "metadata": {
  "kernelspec": {
   "display_name": "Python 3",
   "language": "python",
   "name": "python3"
  },
  "language_info": {
   "codemirror_mode": {
    "name": "ipython",
    "version": 3
   },
   "file_extension": ".py",
   "mimetype": "text/x-python",
   "name": "python",
   "nbconvert_exporter": "python",
   "pygments_lexer": "ipython3",
   "version": "3.10.8"
  },
  "papermill": {
   "default_parameters": {},
   "duration": 802.468622,
   "end_time": "2022-06-10T12:53:33.026302",
   "environment_variables": {},
   "exception": null,
   "input_path": "__notebook__.ipynb",
   "output_path": "__notebook__.ipynb",
   "parameters": {},
   "start_time": "2022-06-10T12:40:10.557680",
   "version": "2.3.4"
  }
 },
 "nbformat": 4,
 "nbformat_minor": 5
}
